{
 "cells": [
  {
   "cell_type": "code",
   "execution_count": 11,
   "metadata": {},
   "outputs": [],
   "source": [
    "import json\n",
    "\n",
    "def extract_assistant_shadow_text(data):\n",
    "    \"\"\"\n",
    "    Extracts text and relevant metadata from a JSON structure containing messages, then\n",
    "    merges them into a single JSONL row (string).\n",
    "\n",
    "    Specifically:\n",
    "    1. Gathers all `text` content from messages where role=\"user\".\n",
    "    2. Gathers all `text` content from messages where role=\"assistant\" and name=\"Shadow\".\n",
    "    3. Gathers specific metadata (arguments, function_name, plugin_name) from messages where role=\"tool\" and name=\"Shadow\".\n",
    "\n",
    "    Args:\n",
    "        data (dict): The JSON structure containing messages.\n",
    "\n",
    "    Returns:\n",
    "        str: A single JSONL row containing all extracted data.\n",
    "    \"\"\"\n",
    "\n",
    "    user_texts = []\n",
    "    assistant_shadow_texts = []\n",
    "    tool_shadow_data = []\n",
    "    token_data = []\n",
    "\n",
    "    messages = data.get(\"messages\", [])\n",
    "    for message in messages:\n",
    "        role = message.get(\"role\")\n",
    "        name = message.get(\"name\", \"\")\n",
    "        finish_reason = message.get(\"finish_reason\", \"\")\n",
    "        items = message.get(\"items\", [])\n",
    "\n",
    "        if role == \"user\":\n",
    "            for item in items:\n",
    "                text = item.get(\"text\")\n",
    "                if text:\n",
    "                    user_texts.append(text)\n",
    "\n",
    "        elif role == \"assistant\" and name == \"Shadow\":\n",
    "            for item in items:\n",
    "                text = item.get(\"text\")\n",
    "                if text:\n",
    "                    assistant_shadow_texts.append(text)\n",
    "                # 4. If finish_reason == \"tool_calls\", capture usage info\n",
    "                if finish_reason == \"tool_calls\":\n",
    "                    usage_info = message.get(\"metadata\", {}).get(\"usage\", {})\n",
    "                    token_data.append(usage_info)\n",
    "\n",
    "        elif role == \"tool\" and name == \"Shadow\":\n",
    "            for item in items:\n",
    "                metadata = item.get(\"metadata\", {})\n",
    "                arguments = metadata.get(\"arguments\")\n",
    "                function_name = item.get(\"function_name\")\n",
    "                plugin_name = item.get(\"plugin_name\")\n",
    "                if arguments and function_name and plugin_name:\n",
    "                    tool_shadow_data.append({\n",
    "                        \"plugin_name\": plugin_name,\n",
    "                        \"function_name\": function_name,\n",
    "                        \"arguments\": arguments\n",
    "                    })\n",
    "\n",
    "    # Combine the three lists into a single JSON object\n",
    "    combined_data = {\n",
    "        \"user\": user_texts,\n",
    "        \"assistant\": assistant_shadow_texts,\n",
    "        \"tool_call\": tool_shadow_data,\n",
    "        \"usage\": token_data,\n",
    "    }\n",
    "\n",
    "    # Convert to a JSONL (one JSON object per line) string\n",
    "    jsonl_row = json.dumps(combined_data)\n",
    "\n",
    "    return jsonl_row"
   ]
  },
  {
   "cell_type": "code",
   "execution_count": 12,
   "metadata": {},
   "outputs": [
    {
     "name": "stdout",
     "output_type": "stream",
     "text": [
      "{\"user\": [\"Hii shadow.  I have an upcomiing sales call and we are in the discovery phase of the sale.  The call is with Truein.  Can you help me construct a call agenda for this first sales call.\"], \"assistant\": [\"Creating a structured agenda for your discovery call with Truein can help you effectively guide the conversation, ensuring you gather essential insights while also delivering value to your contact. Here's a suggested agenda tailored for a discovery call with Truein:\\n\\n### Sales Call Agenda with Truein\\n\\n1. **Introduction (5 minutes)**\\n   - Briefly introduce yourself and your company.\\n   - Recap the purpose of the call and what you hope to achieve.\\n   - Express enthusiasm and gratitude for the opportunity to speak with them.\\n\\n2. **Understanding Truein's Background (10 minutes)**\\n   - Ask about Truein's current operations, particularly how they manage time and attendance.\\n   - Explore their primary customer base and any specific industry challenges they face.\\n   - Understand their organizational structure and decision-making process.\\n\\n3. **Truein's Business Goals and Objectives (10 minutes)**\\n   - Inquire about their strategic goals for the upcoming year.\\n   - Discuss any challenges they face in achieving these objectives.\\n   - Understand their expectations from a time and attendance system and any specific feature needs.\\n\\n4. **Current Pain Points and Challenges (10 minutes)**\\n   - Delve into pain points with their existing attendance system.\\n   - Ask about any past attempts to address these challenges and what the outcomes were.\\n   - Identify if there are any concerns regarding security, integration, or user adoption.\\n\\n5. **Discovering Opportunities (10 minutes)**\\n   - Discuss potential improvements and opportunities in their current setup.\\n   - Explore how newer solutions, like those offered by Truein, can align with their goals.\\n   - Share any relevant success stories or case studies of similar organizations you have helped.\\n\\n6. **Next Steps and Closing (5 minutes)**\\n   - Recap key insights and confirm mutual understanding.\\n   - Propose next steps, whether it's a follow-up call, a demo, or a trial.\\n   - Thank them for their time and assure them of your commitment to addressing their needs.\\n\\n### Tips:\\n- **Prepare**: Research Truein thoroughly to ask informed questions and provide relevant case studies.\\n- **Listen Actively**: Allow them to speak freely and take detailed notes.\\n- **Be Flexible**: Adapt your agenda based on the flow of the conversation and the interests expressed by Truein.\\n\\nBy following this agenda, you can ensure a comprehensive discovery process that aligns with Truein's needs while demonstrating your strategic approach and value proposition.\"], \"tool_call\": [{\"plugin_name\": \"shadow\", \"function_name\": \"get_customer_docs\", \"arguments\": {\"query\": \"Truein\"}}], \"usage\": [{\"prompt_tokens\": 657, \"completion_tokens\": 17}]}\n"
     ]
    }
   ],
   "source": [
    "import json\n",
    "\n",
    "# Read the JSON file\n",
    "with open('../messages.json', 'r') as file:\n",
    "    json_data = json.load(file)\n",
    "\n",
    "# Call the function\n",
    "jsonl_row = extract_assistant_shadow_text(json_data)\n",
    "#tool_json = json.dumps(tool_shadow_data, indent=4)\n",
    "#print(user, assistant, tool_json)\n",
    "print(jsonl_row)"
   ]
  }
 ],
 "metadata": {
  "kernelspec": {
   "display_name": ".venv",
   "language": "python",
   "name": "python3"
  },
  "language_info": {
   "codemirror_mode": {
    "name": "ipython",
    "version": 3
   },
   "file_extension": ".py",
   "mimetype": "text/x-python",
   "name": "python",
   "nbconvert_exporter": "python",
   "pygments_lexer": "ipython3",
   "version": "3.11.0"
  },
  "orig_nbformat": 4
 },
 "nbformat": 4,
 "nbformat_minor": 2
}
